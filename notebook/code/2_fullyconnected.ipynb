{
 "cells": [
  {
   "cell_type": "code",
   "execution_count": 1,
   "metadata": {
    "collapsed": true
   },
   "outputs": [],
   "source": [
    "#Module we will use down the road\n",
    "from __future__ import print_function\n",
    "import numpy as np\n",
    "import tensorflow as tf\n",
    "import pickle"
   ]
  },
  {
   "cell_type": "code",
   "execution_count": 2,
   "metadata": {
    "collapsed": false
   },
   "outputs": [
    {
     "name": "stdout",
     "output_type": "stream",
     "text": [
      "Training set (200000, 28, 28) (200000,)\n",
      "Validation set (10000, 28, 28) (10000,)\n",
      "Test set (10000, 28, 28) (10000,)\n"
     ]
    }
   ],
   "source": [
    "#Load the data\n",
    "pickle_file = 'notMNIST.pickle'\n",
    "\n",
    "with open(pickle_file, 'rb') as f:\n",
    "  save = pickle.load(f)\n",
    "  train_dataset = save['train_dataset']\n",
    "  train_labels = save['train_labels']\n",
    "  valid_dataset = save['valid_dataset']\n",
    "  valid_labels = save['valid_labels']\n",
    "  test_dataset = save['test_dataset']\n",
    "  test_labels = save['test_labels']\n",
    "  del save  # hint to help gc free up memory\n",
    "  print('Training set', train_dataset.shape, train_labels.shape)\n",
    "  print('Validation set', valid_dataset.shape, valid_labels.shape)\n",
    "  print('Test set', test_dataset.shape, test_labels.shape)"
   ]
  },
  {
   "cell_type": "code",
   "execution_count": 20,
   "metadata": {
    "collapsed": false
   },
   "outputs": [
    {
     "data": {
      "text/plain": [
       "array([[ 0.,  0.,  0., ...,  0.,  0.,  0.],\n",
       "       [ 0.,  0.,  0., ...,  0.,  0.,  1.],\n",
       "       [ 0.,  0.,  0., ...,  0.,  0.,  0.],\n",
       "       ..., \n",
       "       [ 0.,  0.,  1., ...,  0.,  0.,  0.],\n",
       "       [ 0.,  0.,  0., ...,  0.,  0.,  0.],\n",
       "       [ 0.,  0.,  0., ...,  0.,  0.,  0.]], dtype=float32)"
      ]
     },
     "execution_count": 20,
     "metadata": {},
     "output_type": "execute_result"
    }
   ],
   "source": [
    "train_labels"
   ]
  },
  {
   "cell_type": "code",
   "execution_count": 3,
   "metadata": {
    "collapsed": false
   },
   "outputs": [
    {
     "name": "stdout",
     "output_type": "stream",
     "text": [
      "Training set (200000, 784) (200000, 10)\n",
      "Validation set (10000, 784) (10000, 10)\n",
      "Test set (10000, 784) (10000, 10)\n"
     ]
    }
   ],
   "source": [
    "#Reformat the data\n",
    "\n",
    "image_size = 28\n",
    "num_labels = 10\n",
    "\n",
    "def reformat(dataset, labels):\n",
    "  dataset = dataset.reshape((-1, image_size * image_size)).astype(np.float32)\n",
    "  # Map 0 to [1.0, 0.0, 0.0 ...], 1 to [0.0, 1.0, 0.0 ...]\n",
    "  labels = (np.arange(num_labels) == labels[:,None]).astype(np.float32)\n",
    "  return dataset, labels\n",
    "\n",
    "train_dataset, train_labels = reformat(train_dataset, train_labels)\n",
    "valid_dataset, valid_labels = reformat(valid_dataset, valid_labels)\n",
    "test_dataset, test_labels = reformat(test_dataset, test_labels)\n",
    "print('Training set', train_dataset.shape, train_labels.shape)\n",
    "print('Validation set', valid_dataset.shape, valid_labels.shape)\n",
    "print('Test set', test_dataset.shape, test_labels.shape)"
   ]
  },
  {
   "cell_type": "code",
   "execution_count": 4,
   "metadata": {
    "collapsed": false
   },
   "outputs": [],
   "source": [
    "#Let's first run a multinomial logistic regressionwith a simple gradient descent\n",
    "#subset the training data for faster trunaround\n",
    "train_subset = 10000\n",
    "\n",
    "graph = tf.Graph()\n",
    "with graph.as_default():\n",
    "    \n",
    "    #remeber we are training a simple gradient descent -> no placeholder\n",
    "    #the training, validation and test sets here are attached to the graph\n",
    "    tf_train_dataset = tf.constant(train_dataset[:train_subset, :])\n",
    "    tf_train_labels = tf.constant(train_labels[:train_subset])\n",
    "    tf_validation_dataset = tf.constant(valid_dataset)\n",
    "    tf_test_dataset = tf.constant(test_dataset)\n",
    "    \n",
    "    #Variables: these are the parameters of the model;\n",
    "    weights = tf.Variable(tf.truncated_normal([image_size*image_size, num_labels]))\n",
    "    biases = tf.Variable(tf.zeros([num_labels]))\n",
    "    \n",
    "    \n",
    "    #Training\n",
    "    logits = tf.matmul(tf_train_dataset, weights) + biases\n",
    "    loss = tf.reduce_mean(\n",
    "        tf.nn.softmax_cross_entropy_with_logits(labels = tf_train_labels, logits = logits))\n",
    "    \n",
    "    #Optimizer\n",
    "    optimizer = tf.train.GradientDescentOptimizer(0.5).minimize(loss)\n",
    "    \n",
    "    \n",
    "    #Predictions\n",
    "    train_predictions = tf.nn.softmax(logits)\n",
    "    valid_predictions = tf.nn.softmax(\n",
    "    tf.matmul(tf_validation_dataset, weights)+ biases)\n",
    "    test_predictions = tf.nn.softmax(tf.matmul(tf_test_dataset, weights) + biases)"
   ]
  },
  {
   "cell_type": "code",
   "execution_count": 5,
   "metadata": {
    "collapsed": false
   },
   "outputs": [
    {
     "name": "stdout",
     "output_type": "stream",
     "text": [
      "Initialized\n",
      "Loss at step 0 : 16.361934661865234\n",
      "Training accuracy : 6.99%\n",
      "Validation accuracy : 11.1%\n",
      "Loss at step 100 : 2.3478381633758545\n",
      "Training accuracy : 72.13%\n",
      "Validation accuracy : 70.3%\n",
      "Loss at step 200 : 1.9032552242279053\n",
      "Training accuracy : 74.90%\n",
      "Validation accuracy : 72.3%\n",
      "Loss at step 300 : 1.650117039680481\n",
      "Training accuracy : 76.46%\n",
      "Validation accuracy : 73.2%\n",
      "Loss at step 400 : 1.475570559501648\n",
      "Training accuracy : 77.29%\n",
      "Validation accuracy : 73.8%\n",
      "Loss at step 500 : 1.3465306758880615\n",
      "Training accuracy : 77.88%\n",
      "Validation accuracy : 74.2%\n",
      "Loss at step 600 : 1.2461357116699219\n",
      "Training accuracy : 78.58%\n",
      "Validation accuracy : 74.5%\n",
      "Loss at step 700 : 1.1651231050491333\n",
      "Training accuracy : 79.11%\n",
      "Validation accuracy : 74.7%\n",
      "Loss at step 800 : 1.098054051399231\n",
      "Training accuracy : 79.66%\n",
      "Validation accuracy : 74.9%\n",
      "test accuracy : 82.3%\n"
     ]
    }
   ],
   "source": [
    "#Let's run this coputation and iterate\n",
    "num_steps = 801\n",
    "def accuracy(predictions, labels):\n",
    "    return(100.0*np.sum(np.argmax(predictions, 1) == np.argmax(labels, 1))/ len(predictions))\n",
    "\n",
    "with tf.Session(graph=graph) as session:\n",
    "    tf.global_variables_initializer().run()\n",
    "    print(\"Initialized\")\n",
    "    for step in np.arange(num_steps):\n",
    "        _, l, predictions = session.run([optimizer, loss, train_predictions])\n",
    "        if(step%100 == 0):\n",
    "            print(\"Loss at step {0} : {1}\".format(step, l))\n",
    "            print(\"Training accuracy : %.2f%%\"% accuracy(predictions, train_labels[:train_subset, :]))\n",
    "            print(\"Validation accuracy : %.1f%%\" % accuracy(valid_predictions.eval(), valid_labels))\n",
    "    print(\"test accuracy : %.1f%%\"%accuracy(test_predictions.eval() , test_labels))"
   ]
  },
  {
   "cell_type": "code",
   "execution_count": 6,
   "metadata": {
    "collapsed": false
   },
   "outputs": [],
   "source": [
    "#Stochastic Gradient Descent\n",
    "batch_size = 128\n",
    "graph = tf.Graph()\n",
    "with graph.as_default():\n",
    "    tf_train_dataset = tf.placeholder(tf.float32, shape= (batch_size, image_size*image_size))\n",
    "    tf_train_labels = tf.placeholder(tf.float32, shape = (batch_size, num_labels))\n",
    "    tf_valid_dataset = tf.constant(valid_dataset)\n",
    "    tf_test_dataset = tf.constant(test_dataset)\n",
    "    \n",
    "    #variables\n",
    "    weights = tf.Variable(tf.truncated_normal([image_size*image_size, num_labels]))\n",
    "    biases = tf.Variable(tf.zeros([num_labels]))\n",
    "    \n",
    "    #Training\n",
    "    logits = tf.matmul(tf_train_dataset, weights) + biases\n",
    "    loss = tf.reduce_mean(\n",
    "        tf.nn.softmax_cross_entropy_with_logits(labels = tf_train_labels, logits = logits))\n",
    "    \n",
    "    #Optimization\n",
    "    optimizer = tf.train.GradientDescentOptimizer(0.5).minimize(loss)\n",
    "    \n",
    "    #predictions\n",
    "    train_predictions = tf.nn.softmax(logits)\n",
    "    valid_predictions = tf.nn.softmax(tf.matmul(tf_valid_dataset, weights) + biases)\n",
    "    test_predictions = tf.nn.softmax(tf.matmul(tf_test_dataset, weights) + biases)"
   ]
  },
  {
   "cell_type": "code",
   "execution_count": 7,
   "metadata": {
    "collapsed": false
   },
   "outputs": [
    {
     "name": "stdout",
     "output_type": "stream",
     "text": [
      "Initialized\n",
      "Minibatch loss at 0: 18.662269592285156\n",
      "Minibatch accuray : 7.8%\n",
      "Validation accuracy: 9.8%\n",
      "Minibatch loss at 500: 1.1725246906280518\n",
      "Minibatch accuray : 78.1%\n",
      "Validation accuracy: 75.9%\n",
      "Minibatch loss at 1000: 1.3263218402862549\n",
      "Minibatch accuray : 74.2%\n",
      "Validation accuracy: 77.0%\n",
      "Minibatch loss at 1500: 0.7739146947860718\n",
      "Minibatch accuray : 83.6%\n",
      "Validation accuracy: 77.5%\n",
      "Minibatch loss at 2000: 0.8434993028640747\n",
      "Minibatch accuray : 78.9%\n",
      "Validation accuracy: 77.5%\n",
      "Minibatch loss at 2500: 1.032373309135437\n",
      "Minibatch accuray : 79.7%\n",
      "Validation accuracy: 78.5%\n",
      "Minibatch loss at 3000: 1.106473684310913\n",
      "Minibatch accuray : 78.9%\n",
      "Validation accuracy: 79.0%\n",
      "Test accuracy: 86.3%\n"
     ]
    }
   ],
   "source": [
    "#train\n",
    "num_steps = 3001\n",
    "with tf.Session(graph = graph) as session:\n",
    "    tf.global_variables_initializer().run()\n",
    "    print(\"Initialized\")\n",
    "    for step in np.arange(num_steps):\n",
    "        offset = (step * batch_size) % (train_labels.shape[0]- batch_size)\n",
    "        batch_data = train_dataset[offset:(offset + batch_size), :]\n",
    "        batch_labels = train_labels[offset:(offset + batch_size), :]\n",
    "        feed_dict = {tf_train_dataset:batch_data, tf_train_labels:batch_labels}\n",
    "        _, l, predictions = session.run([optimizer, loss, train_predictions], feed_dict = feed_dict)\n",
    "        if step%500 == 0:\n",
    "            print(\"Minibatch loss at {0}: {1}\".format(step, l))\n",
    "            print(\"Minibatch accuray : %.1f%%\" % accuracy(predictions, batch_labels))\n",
    "            print(\"Validation accuracy: %.1f%%\" % accuracy(\n",
    "                        valid_predictions.eval(), valid_labels))\n",
    "    print(\"Test accuracy: %.1f%%\" % accuracy(test_predictions.eval(), test_labels))"
   ]
  },
  {
   "cell_type": "code",
   "execution_count": 13,
   "metadata": {
    "collapsed": false
   },
   "outputs": [],
   "source": [
    "#1 layer Neural Network using rectified linear units and 1024 hidden nodes\n",
    "batch_size = 128\n",
    "num_hidden_units = 1024\n",
    "graph = tf.Graph()\n",
    "with graph.as_default():\n",
    "    tf_train_dataset = tf.placeholder(tf.float32, shape = (batch_size, image_size*image_size))\n",
    "    tf_train_labels = tf.placeholder(tf.float32, shape = (batch_size, num_labels))\n",
    "    tf_validation_dataset = tf.constant(valid_dataset)\n",
    "    tf_test_dataset = tf.constant(test_dataset)\n",
    "    \n",
    "    #variables\n",
    "    weights1 = tf.Variable(tf.truncated_normal([image_size*image_size, num_hidden_units]))\n",
    "    biases1 = tf.Variable(tf.zeros([num_hidden_units]))\n",
    "    weights2 = tf.Variable(tf.truncated_normal([num_hidden_units, num_labels]))\n",
    "    biases2 = tf.Variable(tf.zeros([num_labels]))\n",
    "    \n",
    "    #Training\n",
    "    hidden1 = tf.nn.relu(tf.matmul(tf_train_dataset, weights1) + biases1)\n",
    "    logits = tf.matmul(hidden1, weights2) + biases2\n",
    "    loss = tf.reduce_mean(tf.nn.softmax_cross_entropy_with_logits(labels = tf_train_labels, logits = logits))\n",
    "    \n",
    "    #Optimization\n",
    "    optimizer = tf.train.GradientDescentOptimizer(0.5).minimize(loss)\n",
    "    \n",
    "    #Predictions\n",
    "    train_predictions = tf.nn.softmax(logits)\n",
    "    valid_hidden1 = tf.nn.relu(tf.matmul(tf_validation_dataset, weights1) + biases1)\n",
    "    valid_predictions = tf.nn.softmax(tf.matmul(valid_hidden1, weights2) + biases2)\n",
    "    test_hidden1 = tf.nn.relu(tf.matmul(tf_test_dataset, weights1) + biases1 )\n",
    "    test_predictions = tf.nn.softmax(tf.matmul(test_hidden1, weights2) + biases2)"
   ]
  },
  {
   "cell_type": "code",
   "execution_count": 14,
   "metadata": {
    "collapsed": false
   },
   "outputs": [
    {
     "name": "stdout",
     "output_type": "stream",
     "text": [
      "Initialized\n",
      "Minibatch loss at 0: 332.98333740234375\n",
      "Minibatch accuray : 10.9%\n",
      "Validation accuracy: 24.2%\n",
      "Minibatch loss at 500: 25.510574340820312\n",
      "Minibatch accuray : 77.3%\n",
      "Validation accuracy: 80.2%\n",
      "Minibatch loss at 1000: 12.710750579833984\n",
      "Minibatch accuray : 78.9%\n",
      "Validation accuracy: 81.2%\n",
      "Minibatch loss at 1500: 7.755655288696289\n",
      "Minibatch accuray : 87.5%\n",
      "Validation accuracy: 81.0%\n",
      "Minibatch loss at 2000: 1.66506028175354\n",
      "Minibatch accuray : 89.1%\n",
      "Validation accuracy: 82.1%\n",
      "Minibatch loss at 2500: 4.591264724731445\n",
      "Minibatch accuray : 79.7%\n",
      "Validation accuracy: 81.6%\n",
      "Minibatch loss at 3000: 1.7095650434494019\n",
      "Minibatch accuray : 85.2%\n",
      "Validation accuracy: 82.3%\n",
      "Test accuracy: 89.8%\n"
     ]
    }
   ],
   "source": [
    "#train\n",
    "num_steps = 3001\n",
    "with tf.Session(graph = graph) as session:\n",
    "    tf.global_variables_initializer().run()\n",
    "    print(\"Initialized\")\n",
    "    for step in np.arange(num_steps):\n",
    "        offset = (step * batch_size) % (train_labels.shape[0]- batch_size)\n",
    "        batch_data = train_dataset[offset:(offset + batch_size), :]\n",
    "        batch_labels = train_labels[offset:(offset + batch_size), :]\n",
    "        feed_dict = {tf_train_dataset:batch_data, tf_train_labels:batch_labels}\n",
    "        _, l, predictions = session.run([optimizer, loss, train_predictions], feed_dict = feed_dict)\n",
    "        if step%500 == 0:\n",
    "            print(\"Minibatch loss at {0}: {1}\".format(step, l))\n",
    "            print(\"Minibatch accuray : %.1f%%\" % accuracy(predictions, batch_labels))\n",
    "            print(\"Validation accuracy: %.1f%%\" % accuracy(\n",
    "                        valid_predictions.eval(), valid_labels))\n",
    "    print(\"Test accuracy: %.1f%%\" % accuracy(test_predictions.eval(), test_labels))"
   ]
  },
  {
   "cell_type": "code",
   "execution_count": null,
   "metadata": {
    "collapsed": true
   },
   "outputs": [],
   "source": []
  }
 ],
 "metadata": {
  "anaconda-cloud": {},
  "kernelspec": {
   "display_name": "Python [Root]",
   "language": "python",
   "name": "Python [Root]"
  },
  "language_info": {
   "codemirror_mode": {
    "name": "ipython",
    "version": 3
   },
   "file_extension": ".py",
   "mimetype": "text/x-python",
   "name": "python",
   "nbconvert_exporter": "python",
   "pygments_lexer": "ipython3",
   "version": "3.5.2"
  }
 },
 "nbformat": 4,
 "nbformat_minor": 0
}
