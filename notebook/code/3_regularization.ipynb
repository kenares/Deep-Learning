{
 "cells": [
  {
   "cell_type": "code",
   "execution_count": 1,
   "metadata": {
    "collapsed": true
   },
   "outputs": [],
   "source": [
    "#Module we will use down the road\n",
    "from __future__ import print_function\n",
    "import numpy as np\n",
    "import tensorflow as tf\n",
    "import pickle"
   ]
  },
  {
   "cell_type": "code",
   "execution_count": 2,
   "metadata": {
    "collapsed": false
   },
   "outputs": [
    {
     "name": "stdout",
     "output_type": "stream",
     "text": [
      "Training set (200000, 28, 28) (200000,)\n",
      "Validation set (10000, 28, 28) (10000,)\n",
      "Test set (10000, 28, 28) (10000,)\n"
     ]
    }
   ],
   "source": [
    "#Load the data\n",
    "pickle_file = 'notMNIST.pickle'\n",
    "\n",
    "with open(pickle_file, 'rb') as f:\n",
    "  save = pickle.load(f)\n",
    "  train_dataset = save['train_dataset']\n",
    "  train_labels = save['train_labels']\n",
    "  valid_dataset = save['valid_dataset']\n",
    "  valid_labels = save['valid_labels']\n",
    "  test_dataset = save['test_dataset']\n",
    "  test_labels = save['test_labels']\n",
    "  del save  # hint to help gc free up memory\n",
    "  print('Training set', train_dataset.shape, train_labels.shape)\n",
    "  print('Validation set', valid_dataset.shape, valid_labels.shape)\n",
    "  print('Test set', test_dataset.shape, test_labels.shape)"
   ]
  },
  {
   "cell_type": "code",
   "execution_count": 3,
   "metadata": {
    "collapsed": false
   },
   "outputs": [
    {
     "name": "stdout",
     "output_type": "stream",
     "text": [
      "Training set (200000, 784) (200000, 10)\n",
      "Validation set (10000, 784) (10000, 10)\n",
      "Test set (10000, 784) (10000, 10)\n"
     ]
    }
   ],
   "source": [
    "#Reformat the data\n",
    "\n",
    "image_size = 28\n",
    "num_labels = 10\n",
    "\n",
    "def reformat(dataset, labels):\n",
    "  dataset = dataset.reshape((-1, image_size * image_size)).astype(np.float32)\n",
    "  # Map 0 to [1.0, 0.0, 0.0 ...], 1 to [0.0, 1.0, 0.0 ...]\n",
    "  labels = (np.arange(num_labels) == labels[:,None]).astype(np.float32)\n",
    "  return dataset, labels\n",
    "\n",
    "train_dataset, train_labels = reformat(train_dataset, train_labels)\n",
    "valid_dataset, valid_labels = reformat(valid_dataset, valid_labels)\n",
    "test_dataset, test_labels = reformat(test_dataset, test_labels)\n",
    "print('Training set', train_dataset.shape, train_labels.shape)\n",
    "print('Validation set', valid_dataset.shape, valid_labels.shape)\n",
    "print('Test set', test_dataset.shape, test_labels.shape)"
   ]
  },
  {
   "cell_type": "code",
   "execution_count": 4,
   "metadata": {
    "collapsed": true
   },
   "outputs": [],
   "source": [
    "def accuracy(predictions, labels):\n",
    "    return 100.0 * np.sum(np.argmax(predictions, 1) == np.argmax(labels, 1))/len(predictions)"
   ]
  },
  {
   "cell_type": "code",
   "execution_count": 5,
   "metadata": {
    "collapsed": false
   },
   "outputs": [],
   "source": [
    "batch_size = 150\n",
    "Lambda = 1e-5 #5e-5 in  convolution.py\n",
    "graph = tf.Graph()\n",
    "with graph.as_default():\n",
    "    tf_train_dataset = tf.placeholder(tf.float32, shape=(batch_size, image_size*image_size))\n",
    "    tf_train_labels = tf.placeholder(tf.float32, shape = (batch_size, num_labels))\n",
    "    tf_validation_dataset = tf.constant(valid_dataset)\n",
    "    tf_test_dataset = tf.constant(test_dataset)\n",
    "    \n",
    "    #Variables\n",
    "    weights = tf.Variable(tf.truncated_normal([image_size*image_size, num_labels]))\n",
    "    biases = tf.Variable(tf.zeros([num_labels]))\n",
    "    \n",
    "    #Training\n",
    "    logits = tf.matmul(tf_train_dataset, weights) + biases\n",
    "    loss = tf.reduce_mean(\n",
    "        tf.nn.softmax_cross_entropy_with_logits(labels = tf_train_labels, logits= logits)) + \\\n",
    "                                        (Lambda/(2*batch_size))*tf.nn.l2_loss(weights)\n",
    "    \n",
    "    #Optimization\n",
    "    optimizer = tf.train.GradientDescentOptimizer(0.5).minimize(loss)\n",
    "    \n",
    "    #Predictions\n",
    "    train_predictions = tf.nn.softmax(logits)\n",
    "    valid_predictions = tf.nn.softmax(tf.matmul(tf_validation_dataset, weights) + biases)\n",
    "    test_predictions = tf.nn.softmax(tf.matmul(tf_test_dataset, weights) + biases)"
   ]
  },
  {
   "cell_type": "code",
   "execution_count": 6,
   "metadata": {
    "collapsed": false
   },
   "outputs": [
    {
     "name": "stdout",
     "output_type": "stream",
     "text": [
      "Initialized\n",
      "Loss at step 0 : 14.6592378616333\n",
      "Training accuracy : 10.7\n",
      "Validation accuracy : 13.2\n",
      "Loss at step 500 : 1.4467601776123047\n",
      "Training accuracy : 79.3\n",
      "Validation accuracy : 75.5\n",
      "Loss at step 1000 : 1.6460164785385132\n",
      "Training accuracy : 70.0\n",
      "Validation accuracy : 76.7\n",
      "Loss at step 1500 : 1.3156633377075195\n",
      "Training accuracy : 70.0\n",
      "Validation accuracy : 76.9\n",
      "Loss at step 2000 : 0.9650393724441528\n",
      "Training accuracy : 80.0\n",
      "Validation accuracy : 77.4\n",
      "Loss at step 2500 : 0.9357032179832458\n",
      "Training accuracy : 78.7\n",
      "Validation accuracy : 78.6\n",
      "Loss at step 3000 : 0.8860827684402466\n",
      "Training accuracy : 77.3\n",
      "Validation accuracy : 79.0\n",
      "Test accuracy : 86.5\n"
     ]
    }
   ],
   "source": [
    "num_steps = 3001\n",
    "validation_accuracy = []\n",
    "with tf.Session(graph=graph) as session:\n",
    "    tf.global_variables_initializer().run()\n",
    "    print('Initialized')\n",
    "    for step in np.arange(num_steps):\n",
    "        offset = (step * batch_size) % (train_labels.shape[0] - batch_size)\n",
    "        batch_data = train_dataset[offset:(offset + batch_size), :]\n",
    "        batch_labels = train_labels[offset:(offset + batch_size), :]\n",
    "        feed_dict = {tf_train_dataset : batch_data, tf_train_labels : batch_labels}\n",
    "        _, l, predictions = session.run([optimizer, loss, train_predictions], feed_dict = feed_dict)\n",
    "        if step%500 == 0:\n",
    "            print('Loss at step {0} : {1}'.format(step, l))\n",
    "            print('Training accuracy : %.1f'%accuracy(predictions, batch_labels))\n",
    "            valid_accuracy = accuracy(valid_predictions.eval(), valid_labels)\n",
    "            validation_accuracy.append(valid_accuracy)\n",
    "            print('Validation accuracy : %.1f'%valid_accuracy)\n",
    "    print('Test accuracy : %.1f' % accuracy(test_predictions.eval(), test_labels))"
   ]
  },
  {
   "cell_type": "markdown",
   "metadata": {},
   "source": [
    "### L2 regularization\n",
    "Notice in convolution.py they even regularized biases\n",
    "\n",
    "For me I stick with the old regulariation term keep dividing with the batch size (?)"
   ]
  },
  {
   "cell_type": "code",
   "execution_count": 7,
   "metadata": {
    "collapsed": false
   },
   "outputs": [],
   "source": [
    "batch_size = 128\n",
    "hidden_units = 1024\n",
    "Lambda = 1e-5\n",
    "graph = tf.Graph()\n",
    "with graph.as_default():\n",
    "    tf_train_dataset = tf.placeholder(tf.float32, shape=(batch_size, image_size*image_size))\n",
    "    tf_train_labels = tf.placeholder(tf.float32, shape=(batch_size, num_labels))\n",
    "    tf_validation_dataset = tf.constant(valid_dataset)\n",
    "    tf_test_dataset = tf.constant(test_dataset)\n",
    "    \n",
    "    #Variables\n",
    "    weights1 = tf.Variable(tf.truncated_normal([image_size*image_size, hidden_units]))\n",
    "    biases1 = tf.Variable(tf.zeros([hidden_units]))\n",
    "    weights2 = tf.Variable(tf.truncated_normal([hidden_units, num_labels]))\n",
    "    biases2 =tf.Variable(tf.zeros([num_labels]))\n",
    "    \n",
    "    #Training\n",
    "    hidden1 = tf.nn.relu(tf.matmul(tf_train_dataset, weights1) + biases1)\n",
    "    logits = tf.matmul(hidden1, weights2) + biases2\n",
    "    loss = tf.reduce_mean(tf.nn.softmax_cross_entropy_with_logits(labels = tf_train_labels, logits = logits))\\\n",
    "    + (Lambda/(2*batch_size))*(tf.nn.l2_loss(weights1) +  tf.nn.l2_loss(weights2))\n",
    "    \n",
    "    #Optimization\n",
    "    optimizer = tf.train.GradientDescentOptimizer(0.5).minimize(loss)\n",
    "    \n",
    "    #Predictions\n",
    "    train_predictions = tf.nn.softmax(logits)\n",
    "    hidden_valid = tf.nn.relu(tf.matmul(tf_validation_dataset, weights1) + biases1)\n",
    "    valid_predictions = tf.nn.softmax(tf.matmul(hidden_valid, weights2) + biases2)\n",
    "    hidden_test = tf.nn.relu(tf.matmul(tf_test_dataset, weights1) + biases1)\n",
    "    test_predictions = tf.nn.softmax(tf.matmul(hidden_test, weights2) + biases2)"
   ]
  },
  {
   "cell_type": "code",
   "execution_count": 8,
   "metadata": {
    "collapsed": false
   },
   "outputs": [
    {
     "name": "stdout",
     "output_type": "stream",
     "text": [
      "Initialized\n",
      "Minibatch loss at 0: 314.1051940917969\n",
      "Minibatch accuray : 9.4%\n",
      "Validation accuracy: 29.3%\n",
      "Minibatch loss at 500: 18.478822708129883\n",
      "Minibatch accuray : 85.9%\n",
      "Validation accuracy: 80.4%\n",
      "Minibatch loss at 1000: 15.604433059692383\n",
      "Minibatch accuray : 74.2%\n",
      "Validation accuracy: 80.6%\n",
      "Minibatch loss at 1500: 5.6252827644348145\n",
      "Minibatch accuray : 86.7%\n",
      "Validation accuracy: 80.5%\n",
      "Minibatch loss at 2000: 3.5708141326904297\n",
      "Minibatch accuray : 85.2%\n",
      "Validation accuracy: 81.8%\n",
      "Minibatch loss at 2500: 3.611917018890381\n",
      "Minibatch accuray : 85.2%\n",
      "Validation accuracy: 82.1%\n",
      "Minibatch loss at 3000: 2.2162792682647705\n",
      "Minibatch accuray : 83.6%\n",
      "Validation accuracy: 82.5%\n",
      "Test accuracy: 89.4%\n"
     ]
    }
   ],
   "source": [
    "#train\n",
    "num_steps = 3001\n",
    "with tf.Session(graph = graph) as session:\n",
    "    tf.global_variables_initializer().run()\n",
    "    print(\"Initialized\")\n",
    "    for step in np.arange(num_steps):\n",
    "        offset = (step * batch_size) % (train_labels.shape[0]- batch_size)\n",
    "        batch_data = train_dataset[offset:(offset + batch_size), :]\n",
    "        batch_labels = train_labels[offset:(offset + batch_size), :]\n",
    "        feed_dict = {tf_train_dataset:batch_data, tf_train_labels:batch_labels}\n",
    "        _, l, predictions = session.run([optimizer, loss, train_predictions], feed_dict = feed_dict)\n",
    "        if step%500 == 0:\n",
    "            print(\"Minibatch loss at {0}: {1}\".format(step, l))\n",
    "            print(\"Minibatch accuray : %.1f%%\" % accuracy(predictions, batch_labels))\n",
    "            print(\"Validation accuracy: %.1f%%\" % accuracy(\n",
    "                        valid_predictions.eval(), valid_labels))\n",
    "    print(\"Test accuracy: %.1f%%\" % accuracy(test_predictions.eval(), test_labels))"
   ]
  },
  {
   "cell_type": "markdown",
   "metadata": {},
   "source": [
    "#### Problem2: Extreme Case of overfitting "
   ]
  },
  {
   "cell_type": "code",
   "execution_count": 9,
   "metadata": {
    "collapsed": true
   },
   "outputs": [],
   "source": [
    "#Problem2\n",
    "batch_size = 128\n",
    "hidden_units = 1024\n",
    "Lambda = 1e-5\n",
    "graph = tf.Graph()\n",
    "with graph.as_default():\n",
    "    tf_train_dataset = tf.placeholder(tf.float32, shape=(batch_size, image_size*image_size))\n",
    "    tf_train_labels = tf.placeholder(tf.float32, shape=(batch_size, num_labels))\n",
    "    tf_validation_dataset = tf.constant(valid_dataset)\n",
    "    tf_test_dataset = tf.constant(test_dataset)\n",
    "    \n",
    "    #Variables\n",
    "    weights1 = tf.Variable(tf.truncated_normal([image_size*image_size, hidden_units]))\n",
    "    biases1 = tf.Variable(tf.zeros([hidden_units]))\n",
    "    weights2 = tf.Variable(tf.truncated_normal([hidden_units, num_labels]))\n",
    "    biases2 =tf.Variable(tf.zeros([num_labels]))\n",
    "    \n",
    "    #Training\n",
    "    hidden1 = tf.nn.relu(tf.matmul(tf_train_dataset, weights1) + biases1)\n",
    "    logits = tf.matmul(hidden1, weights2) + biases2\n",
    "    loss = tf.reduce_mean(tf.nn.softmax_cross_entropy_with_logits(labels = tf_train_labels, logits = logits))\\\n",
    "    + (Lambda/(2*batch_size))*(tf.nn.l2_loss(weights1) +  tf.nn.l2_loss(weights2))\n",
    "    \n",
    "    #Optimization\n",
    "    optimizer = tf.train.GradientDescentOptimizer(0.5).minimize(loss)\n",
    "    \n",
    "    #Predictions\n",
    "    train_predictions = tf.nn.softmax(logits)\n",
    "    hidden_valid = tf.nn.relu(tf.matmul(tf_validation_dataset, weights1) + biases1)\n",
    "    valid_predictions = tf.nn.softmax(tf.matmul(hidden_valid, weights2) + biases2)\n",
    "    hidden_test = tf.nn.relu(tf.matmul(tf_test_dataset, weights1) + biases1)\n",
    "    test_predictions = tf.nn.softmax(tf.matmul(hidden_test, weights2) + biases2)"
   ]
  },
  {
   "cell_type": "code",
   "execution_count": 10,
   "metadata": {
    "collapsed": false
   },
   "outputs": [
    {
     "name": "stdout",
     "output_type": "stream",
     "text": [
      "Initialized\n",
      "Minibatch loss at 0: 452.1272277832031\n",
      "Minibatch accuray : 5.5%\n",
      "Validation accuracy: 32.0%\n",
      "Minibatch loss at 500: 0.012293349951505661\n",
      "Minibatch accuray : 100.0%\n",
      "Validation accuracy: 62.8%\n",
      "Minibatch loss at 1000: 0.012293349951505661\n",
      "Minibatch accuray : 100.0%\n",
      "Validation accuracy: 62.8%\n",
      "Minibatch loss at 1500: 0.012293349951505661\n",
      "Minibatch accuray : 100.0%\n",
      "Validation accuracy: 62.8%\n",
      "Minibatch loss at 2000: 0.012293349951505661\n",
      "Minibatch accuray : 100.0%\n",
      "Validation accuracy: 62.8%\n",
      "Minibatch loss at 2500: 0.012293349951505661\n",
      "Minibatch accuray : 100.0%\n",
      "Validation accuracy: 62.8%\n",
      "Minibatch loss at 3000: 0.012293349951505661\n",
      "Minibatch accuray : 100.0%\n",
      "Validation accuracy: 62.8%\n",
      "Test accuracy: 69.3%\n"
     ]
    }
   ],
   "source": [
    "#train\n",
    "num_steps = 3001\n",
    "with tf.Session(graph = graph) as session:\n",
    "    tf.global_variables_initializer().run()\n",
    "    print(\"Initialized\")\n",
    "    for step in np.arange(num_steps):\n",
    "        offset = np.random.choice(np.arange(10))\n",
    "        batch_data = train_dataset[offset:(offset + batch_size), :]\n",
    "        batch_labels = train_labels[offset:(offset + batch_size), :]\n",
    "        feed_dict = {tf_train_dataset:batch_data, tf_train_labels:batch_labels}\n",
    "        _, l, predictions = session.run([optimizer, loss, train_predictions], feed_dict = feed_dict)\n",
    "        if step%500 == 0:\n",
    "            print(\"Minibatch loss at {0}: {1}\".format(step, l))\n",
    "            print(\"Minibatch accuray : %.1f%%\" % accuracy(predictions, batch_labels))\n",
    "            print(\"Validation accuracy: %.1f%%\" % accuracy(\n",
    "                        valid_predictions.eval(), valid_labels))\n",
    "    print(\"Test accuracy: %.1f%%\" % accuracy(test_predictions.eval(), test_labels))"
   ]
  },
  {
   "cell_type": "markdown",
   "metadata": {},
   "source": [
    "### Trying to adress previous overfitting with dropout"
   ]
  },
  {
   "cell_type": "code",
   "execution_count": 11,
   "metadata": {
    "collapsed": false
   },
   "outputs": [],
   "source": [
    "#Dropout\n",
    "hidden_units = 1024\n",
    "batch_size = 128\n",
    "Lambda = 1e-5\n",
    "graph = tf.Graph()\n",
    "with graph.as_default():\n",
    "    tf_train_dataset = tf.placeholder(tf.float32, shape=(batch_size, image_size*image_size))\n",
    "    tf_train_labels = tf.placeholder(tf.float32, shape = (batch_size, num_labels))\n",
    "    keep_prob = tf.placeholder(tf.float32)\n",
    "    tf_validation_dataset = tf.constant(valid_dataset)\n",
    "    tf_test_dataset = tf.constant(test_dataset)\n",
    "    \n",
    "    #Variables\n",
    "    weights1 = tf.Variable(tf.truncated_normal([image_size*image_size, hidden_units]))\n",
    "    biases1 = tf.Variable(tf.zeros([hidden_units]))\n",
    "    weights2 = tf.Variable(tf.truncated_normal([hidden_units, num_labels]))\n",
    "    biases2 = tf.Variable(tf.zeros([num_labels]))\n",
    "    \n",
    "    #Training\n",
    "    hidden1 = tf.nn.relu(tf.matmul(tf_train_dataset, weights1) + biases1)\n",
    "    hidden1_drop = tf.nn.dropout(hidden1, keep_prob)\n",
    "    logits = tf.matmul(hidden1_drop, weights2) + biases2\n",
    "    loss = tf.reduce_mean(tf.nn.softmax_cross_entropy_with_logits(labels = tf_train_labels, logits = logits))\\\n",
    "    + (Lambda/(2*batch_size))*(tf.nn.l2_loss(weights1) + tf.nn.l2_loss(weights2))\n",
    "    \n",
    "    #Optimization\n",
    "    optimizer = tf.train.GradientDescentOptimizer(0.5).minimize(loss)\n",
    "    \n",
    "    #Predictions\n",
    "    train_predictions = tf.nn.softmax(logits)\n",
    "    hidden_valid = tf.nn.relu(tf.matmul(tf_validation_dataset, weights1) + biases1)\n",
    "    hidden_valid_drop = tf.nn.dropout(hidden_valid, 1.0)\n",
    "    valid_predictions = tf.nn.softmax(tf.matmul(hidden_valid_drop, weights2) + biases2)\n",
    "    hidden_test = tf.nn.relu(tf.matmul(tf_test_dataset, weights1) + biases1)\n",
    "    hidden_test_drop = tf.nn.dropout(hidden_test, 1.0)\n",
    "    test_predictions = tf.nn.softmax(tf.matmul(hidden_test_drop, weights2) + biases2)"
   ]
  },
  {
   "cell_type": "code",
   "execution_count": 12,
   "metadata": {
    "collapsed": false
   },
   "outputs": [
    {
     "name": "stdout",
     "output_type": "stream",
     "text": [
      "Initialized\n",
      "Minibatch error at step 0:539.4149780273438\n",
      "Minibatch accuracy : 13.3\n",
      "Validation accuracy : 24\n",
      "Minibatch error at step 500:0.012312044389545918\n",
      "Minibatch accuracy : 100.0\n",
      "Validation accuracy : 70\n",
      "Minibatch error at step 1000:0.01231517642736435\n",
      "Minibatch accuracy : 100.0\n",
      "Validation accuracy : 70\n",
      "Minibatch error at step 1500:0.012316519394516945\n",
      "Minibatch accuracy : 100.0\n",
      "Validation accuracy : 70\n",
      "Minibatch error at step 2000:0.012318098917603493\n",
      "Minibatch accuracy : 100.0\n",
      "Validation accuracy : 69\n",
      "Minibatch error at step 2500:0.01231920626014471\n",
      "Minibatch accuracy : 100.0\n",
      "Validation accuracy : 70\n",
      "Minibatch error at step 3000:0.012319641187787056\n",
      "Minibatch accuracy : 100.0\n",
      "Validation accuracy : 71\n",
      "Test accuracy : 78.0\n"
     ]
    }
   ],
   "source": [
    "num_steps = 3001\n",
    "with tf.Session(graph = graph) as session:\n",
    "    tf.global_variables_initializer().run()\n",
    "    print('Initialized')\n",
    "    for step in np.arange(num_steps):\n",
    "        offset = np.random.choice(np.arange(10))\n",
    "        batch_data = train_dataset[offset:(offset + batch_size), :]\n",
    "        batch_labels = train_labels[offset:(offset + batch_size), :]\n",
    "        feed_dict = {tf_train_dataset:batch_data, tf_train_labels:batch_labels, keep_prob:0.5}\n",
    "        _, l, predictions = session.run([optimizer, loss, train_predictions], feed_dict=feed_dict)\n",
    "        if step%500 == 0:\n",
    "            print('Minibatch error at step {0}:{1}'.format(step, l))\n",
    "            print('Minibatch accuracy : %.1f'%accuracy(predictions, batch_labels))\n",
    "            print('Validation accuracy : %1.f'%accuracy(valid_predictions.eval(), valid_labels))\n",
    "    print('Test accuracy : %.1f'%accuracy(test_predictions.eval(), test_labels))"
   ]
  },
  {
   "cell_type": "markdown",
   "metadata": {},
   "source": [
    "### <b>Exponential rate decay </b> with a Neural Network"
   ]
  },
  {
   "cell_type": "code",
   "execution_count": 13,
   "metadata": {
    "collapsed": true
   },
   "outputs": [],
   "source": [
    "batch_size = 128\n",
    "hidden_units = 1024\n",
    "Lambda = 1e-5\n",
    "graph = tf.Graph()\n",
    "with graph.as_default():\n",
    "    tf_train_dataset = tf.placeholder(tf.float32, shape=(batch_size, image_size*image_size))\n",
    "    tf_train_labels = tf.placeholder(tf.float32, shape=(batch_size, num_labels))\n",
    "    tf_validation_dataset = tf.constant(valid_dataset)\n",
    "    tf_test_dataset = tf.constant(test_dataset)\n",
    "    \n",
    "    #Variables\n",
    "    weights1 = tf.Variable(tf.truncated_normal([image_size*image_size, hidden_units]))\n",
    "    biases1 = tf.Variable(tf.zeros([hidden_units]))\n",
    "    weights2 = tf.Variable(tf.truncated_normal([hidden_units, num_labels]))\n",
    "    biases2 =tf.Variable(tf.zeros([num_labels]))\n",
    "    \n",
    "    #Training\n",
    "    hidden1 = tf.nn.relu(tf.matmul(tf_train_dataset, weights1) + biases1)\n",
    "    logits = tf.matmul(hidden1, weights2) + biases2\n",
    "    loss = tf.reduce_mean(tf.nn.softmax_cross_entropy_with_logits(labels = tf_train_labels, logits = logits))\\\n",
    "    + (Lambda/(2*batch_size))*(tf.nn.l2_loss(weights1) +  tf.nn.l2_loss(weights2))\n",
    "    \n",
    "    #Optimization\n",
    "    global_step = tf.Variable(0, trainable = False)\n",
    "    learning_rate = tf.train.exponential_decay(0.7, global_step, 100000, 0.96, staircase = True)\n",
    "    optimizer = tf.train.GradientDescentOptimizer(learning_rate).minimize(loss, global_step = global_step)\n",
    "    \n",
    "    #Predictions\n",
    "    train_predictions = tf.nn.softmax(logits)\n",
    "    hidden_valid = tf.nn.relu(tf.matmul(tf_validation_dataset, weights1) + biases1)\n",
    "    valid_predictions = tf.nn.softmax(tf.matmul(hidden_valid, weights2) + biases2)\n",
    "    hidden_test = tf.nn.relu(tf.matmul(tf_test_dataset, weights1) + biases1)\n",
    "    test_predictions = tf.nn.softmax(tf.matmul(hidden_test, weights2) + biases2)"
   ]
  },
  {
   "cell_type": "code",
   "execution_count": 14,
   "metadata": {
    "collapsed": false
   },
   "outputs": [
    {
     "name": "stdout",
     "output_type": "stream",
     "text": [
      "Initialized\n",
      "Minibatch loss at 0: 320.52069091796875\n",
      "Minibatch accuray : 7.8%\n",
      "Validation accuracy: 28.6%\n",
      "Minibatch loss at 500: 29.074594497680664\n",
      "Minibatch accuray : 72.7%\n",
      "Validation accuracy: 77.2%\n",
      "Minibatch loss at 1000: 10.491528511047363\n",
      "Minibatch accuray : 75.8%\n",
      "Validation accuracy: 80.4%\n",
      "Minibatch loss at 1500: 6.758317470550537\n",
      "Minibatch accuray : 86.7%\n",
      "Validation accuracy: 80.4%\n",
      "Minibatch loss at 2000: 1.0255519151687622\n",
      "Minibatch accuray : 86.7%\n",
      "Validation accuracy: 81.4%\n",
      "Minibatch loss at 2500: 1.9318013191223145\n",
      "Minibatch accuray : 80.5%\n",
      "Validation accuracy: 81.8%\n",
      "Minibatch loss at 3000: 1.5358901023864746\n",
      "Minibatch accuray : 78.9%\n",
      "Validation accuracy: 81.6%\n",
      "Test accuracy: 89.1%\n"
     ]
    }
   ],
   "source": [
    "#train\n",
    "num_steps = 3001\n",
    "with tf.Session(graph = graph) as session:\n",
    "    tf.global_variables_initializer().run()\n",
    "    print(\"Initialized\")\n",
    "    for step in np.arange(num_steps):\n",
    "        offset = (step * batch_size) % (train_labels.shape[0]- batch_size)\n",
    "        batch_data = train_dataset[offset:(offset + batch_size), :]\n",
    "        batch_labels = train_labels[offset:(offset + batch_size), :]\n",
    "        feed_dict = {tf_train_dataset:batch_data, tf_train_labels:batch_labels}\n",
    "        _, l, predictions = session.run([optimizer, loss, train_predictions], feed_dict = feed_dict)\n",
    "        if step%500 == 0:\n",
    "            print(\"Minibatch loss at {0}: {1}\".format(step, l))\n",
    "            print(\"Minibatch accuray : %.1f%%\" % accuracy(predictions, batch_labels))\n",
    "            print(\"Validation accuracy: %.1f%%\" % accuracy(\n",
    "                        valid_predictions.eval(), valid_labels))\n",
    "    print(\"Test accuracy: %.1f%%\" % accuracy(test_predictions.eval(), test_labels))"
   ]
  },
  {
   "cell_type": "markdown",
   "metadata": {},
   "source": [
    "### Deep Neural Network with regularization"
   ]
  },
  {
   "cell_type": "code",
   "execution_count": null,
   "metadata": {
    "collapsed": true
   },
   "outputs": [],
   "source": []
  },
  {
   "cell_type": "markdown",
   "metadata": {},
   "source": [
    "1. I can use dropout with L2 regularization : seems to reduce overfitting\n",
    "2. what about dropout + L2 regularization + learning rate decay\n",
    "3. Train a Neural Network with dropout after the last hidden layer"
   ]
  }
 ],
 "metadata": {
  "anaconda-cloud": {},
  "kernelspec": {
   "display_name": "Python [Root]",
   "language": "python",
   "name": "Python [Root]"
  },
  "language_info": {
   "codemirror_mode": {
    "name": "ipython",
    "version": 3
   },
   "file_extension": ".py",
   "mimetype": "text/x-python",
   "name": "python",
   "nbconvert_exporter": "python",
   "pygments_lexer": "ipython3",
   "version": "3.5.2"
  }
 },
 "nbformat": 4,
 "nbformat_minor": 0
}
